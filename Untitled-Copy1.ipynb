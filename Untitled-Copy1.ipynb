{
 "cells": [
  {
   "cell_type": "code",
   "execution_count": null,
   "metadata": {},
   "outputs": [],
   "source": [
    "import numpy as np\n",
    "import math\n",
    "import Making_GUI\n",
    "\n",
    "GUI = Making_GUI.Making_GUI()\n",
    "\n",
    "class Setting_Simulation_Value(GUI) :\n",
    "    def __init__(self):\n",
    "        self.Structure = self.comboBox_16.currentText()\n",
    "        self.A_state = self.comboBox_5.currentText()\n",
    "        self.A_node = self.comboBox.currentText()\n",
    "        self.A_edge = self.comboBox_2.currentText()\n",
    "        self.MAX = self.comboBox_6.currentText()\n",
    "        self.MIN = self.comboBox_15.currentText()\n",
    "        self.A_network = self.comboBox_4.currentText()\n",
    "        self.B_state = self.comboBox_10.currentText()\n",
    "        self.B_node = self.comboBox_11.currentText()\n",
    "        self.B_edge = self.comboBox_9.currentText()\n",
    "        self.B_inter_edges = self.comboBox_7.currentText()\n",
    "        self.A_inter_edges = self.comboBox_3.currentText()\n",
    "        self.B_network = self.comboBox_8.currentText()        # network : 1 = random regular graph   2 = barabasi-albert graph\n",
    "        self.gap = 30\n",
    "        self.Repeating_number = 100\n",
    "        self.Limited_step = self.comboBox_12.currentText()\n",
    "        self.R = self.simulation_condition(self.gap)[0]\n",
    "        self.D = self.simulation_condition(self.gap)[1]\n",
    "        self.variable_list = self.gamma_and_beta_list(self.R, self.D)\n",
    "        self.NodeColorDict = {1: 'hotpink', 2: 'red', -1: 'skyblue', -2: 'blue'}\n",
    "        self.EdgeColorDict = {1: 'yellow', 2: 'hotpink', 4: 'red',  -1: 'skyblue', -2: 'blue', -4 : 'darkblue'}\n",
    "        self.database = 'renew_competition'   #'competition  renew_competition'\n",
    "        self.drawing_graph = self.comboBox_13.currentText()\n",
    "        self.workers = 4\n",
    "\n",
    "    def simulation_condition(self, gap):\n",
    "        self.R = np.linspace(1, 2, gap)\n",
    "        self.D = np.linspace(self.making_beta_scale(gap)[0], self.making_beta_scale(gap)[1], gap)\n",
    "        return self.R, self.D\n",
    "\n",
    "    def gamma_and_beta_list(self, gamma_list, beta_list):\n",
    "        variable_list = []\n",
    "        for gamma in gamma_list:\n",
    "            for beta in beta_list:\n",
    "                variable_list.append((gamma, beta))\n",
    "        return variable_list\n",
    "\n",
    "    def making_beta_scale(self, a):\n",
    "        scale = math.log((1 / (self.B_edge + 1)) ** 3) / math.log(self.B_inter_edges / (self.B_edge + self.B_inter_edges))\n",
    "        return 0, scale, a\n",
    "    \n",
    "if __name__ == \"__main__\":\n",
    "    pp = QApplication(sys.argv)\n",
    "    myWindow = Making_GUI.Making_GUI()\n",
    "    myWindow.show()\n",
    "    app.exec_()"
   ]
  },
  {
   "cell_type": "code",
   "execution_count": 28,
   "metadata": {},
   "outputs": [
    {
     "data": {
      "text/plain": [
       "[1, 2]"
      ]
     },
     "execution_count": 28,
     "metadata": {},
     "output_type": "execute_result"
    }
   ],
   "source": [
    "eval('[1, 2]')"
   ]
  },
  {
   "cell_type": "code",
   "execution_count": 23,
   "metadata": {},
   "outputs": [
    {
     "ename": "AttributeError",
     "evalue": "'str' object has no attribute 'tolist'",
     "output_type": "error",
     "traceback": [
      "\u001b[1;31m---------------------------------------------------------------------------\u001b[0m",
      "\u001b[1;31mAttributeError\u001b[0m                            Traceback (most recent call last)",
      "\u001b[1;32m<ipython-input-23-41b40e4cd986>\u001b[0m in \u001b[0;36m<module>\u001b[1;34m\u001b[0m\n\u001b[1;32m----> 1\u001b[1;33m \u001b[0mA\u001b[0m\u001b[1;33m.\u001b[0m\u001b[0mtolist\u001b[0m\u001b[1;33m(\u001b[0m\u001b[1;33m)\u001b[0m\u001b[1;33m\u001b[0m\u001b[1;33m\u001b[0m\u001b[0m\n\u001b[0m",
      "\u001b[1;31mAttributeError\u001b[0m: 'str' object has no attribute 'tolist'"
     ]
    }
   ],
   "source": []
  },
  {
   "cell_type": "code",
   "execution_count": null,
   "metadata": {},
   "outputs": [],
   "source": [
    "import Making_GUI"
   ]
  },
  {
   "cell_type": "code",
   "execution_count": null,
   "metadata": {},
   "outputs": [],
   "source": [
    "gui = Making_GUI.Making_GUI()"
   ]
  }
 ],
 "metadata": {
  "kernelspec": {
   "display_name": "Python 3",
   "language": "python",
   "name": "python3"
  },
  "language_info": {
   "codemirror_mode": {
    "name": "ipython",
    "version": 3
   },
   "file_extension": ".py",
   "mimetype": "text/x-python",
   "name": "python",
   "nbconvert_exporter": "python",
   "pygments_lexer": "ipython3",
   "version": "3.6.8"
  }
 },
 "nbformat": 4,
 "nbformat_minor": 2
}
