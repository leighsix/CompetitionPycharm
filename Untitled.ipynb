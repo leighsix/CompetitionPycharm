{
 "cells": [
  {
   "cell_type": "code",
   "execution_count": 1,
   "metadata": {},
   "outputs": [
    {
     "name": "stdout",
     "output_type": "stream",
     "text": [
      "2048\n"
     ]
    }
   ],
   "source": [
    "import sys\n",
    "from PyQt5.QtWidgets import *\n",
    "from PyQt5.QtCore import *\n",
    "from PyQt5 import uic\n",
    "import time\n",
    "\n",
    "form_class = uic.loadUiType(\"mainwindow.ui\")[0]\n",
    "\n",
    "class Making_GUI(QMainWindow, form_class):\n",
    "    def __init__(self):\n",
    "        super().__init__()\n",
    "        self.setupUi(self)\n",
    "        self.timer = QTimer(self)\n",
    "        self.timer.start(1000)\n",
    "        #self.timer.timeout.connect(self.timeout)\n",
    "\n",
    "    def timeout(self):\n",
    "        current_time = QTime.currentTime()\n",
    "        text_time = current_time.toString(\"hh:mm:ss\")\n",
    "        time_msg = \"현재시간: \" + text_time\n",
    "        state = self.kiwoom.get_connect_state()\n",
    "        if state == 1:\n",
    "            state_msg = \"서버 연결 중\"\n",
    "        else:\n",
    "            state_msg = \"서버 미 연결 중\"\n",
    "        self.statusbar.showMessage(state_msg + \" | \" + time_msg)\n",
    "        \n",
    "    def insert_initial_condition(self):\n",
    "        code = self.comboBox.currentText()\n",
    "        return code\n",
    "\n",
    "if __name__ == \"__main__\":\n",
    "    app = QApplication(sys.argv)\n",
    "    myWindow = Making_GUI()\n",
    "    myWindow.show()\n",
    "    app.exec_()\n",
    "    print(myWindow.insert_initial_condition())"
   ]
  },
  {
   "cell_type": "code",
   "execution_count": null,
   "metadata": {},
   "outputs": [],
   "source": [
    "import Making_GUI\n",
    "\n",
    "w = Making_GUI.Making_GUI()"
   ]
  },
  {
   "cell_type": "code",
   "execution_count": null,
   "metadata": {
    "scrolled": true
   },
   "outputs": [],
   "source": [
    "mywindow.comboBox.currentText()"
   ]
  },
  {
   "cell_type": "code",
   "execution_count": null,
   "metadata": {},
   "outputs": [],
   "source": []
  },
  {
   "cell_type": "code",
   "execution_count": null,
   "metadata": {},
   "outputs": [],
   "source": []
  }
 ],
 "metadata": {
  "kernelspec": {
   "display_name": "Python 3",
   "language": "python",
   "name": "python3"
  },
  "language_info": {
   "codemirror_mode": {
    "name": "ipython",
    "version": 3
   },
   "file_extension": ".py",
   "mimetype": "text/x-python",
   "name": "python",
   "nbconvert_exporter": "python",
   "pygments_lexer": "ipython3",
   "version": "3.6.8"
  }
 },
 "nbformat": 4,
 "nbformat_minor": 2
}
